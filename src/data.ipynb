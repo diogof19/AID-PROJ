{
 "cells": [
  {
   "cell_type": "code",
   "execution_count": 1,
   "metadata": {},
   "outputs": [],
   "source": [
    "import pandas as pd\n",
    "\n",
    "listings = pd.read_csv('./data/listings.csv')\n",
    "reviews = pd.read_csv('./data/reviews.csv')"
   ]
  },
  {
   "cell_type": "code",
   "execution_count": 14,
   "metadata": {},
   "outputs": [
    {
     "data": {
      "text/plain": [
       "Index(['listing_id', 'id', 'date', 'reviewer_id', 'reviewer_name', 'comments'], dtype='object')"
      ]
     },
     "execution_count": 14,
     "metadata": {},
     "output_type": "execute_result"
    }
   ],
   "source": [
    "reviews.columns"
   ]
  },
  {
   "cell_type": "code",
   "execution_count": 2,
   "metadata": {},
   "outputs": [
    {
     "data": {
      "text/plain": [
       "Index(['id', 'listing_url', 'scrape_id', 'last_scraped', 'source', 'name',\n",
       "       'description', 'neighborhood_overview', 'picture_url', 'host_id',\n",
       "       'host_url', 'host_name', 'host_since', 'host_location', 'host_about',\n",
       "       'host_response_time', 'host_response_rate', 'host_acceptance_rate',\n",
       "       'host_is_superhost', 'host_thumbnail_url', 'host_picture_url',\n",
       "       'host_neighbourhood', 'host_listings_count',\n",
       "       'host_total_listings_count', 'host_verifications',\n",
       "       'host_has_profile_pic', 'host_identity_verified', 'neighbourhood',\n",
       "       'neighbourhood_cleansed', 'neighbourhood_group_cleansed', 'latitude',\n",
       "       'longitude', 'property_type', 'room_type', 'accommodates', 'bathrooms',\n",
       "       'bathrooms_text', 'bedrooms', 'beds', 'amenities', 'price',\n",
       "       'minimum_nights', 'maximum_nights', 'minimum_minimum_nights',\n",
       "       'maximum_minimum_nights', 'minimum_maximum_nights',\n",
       "       'maximum_maximum_nights', 'minimum_nights_avg_ntm',\n",
       "       'maximum_nights_avg_ntm', 'calendar_updated', 'has_availability',\n",
       "       'availability_30', 'availability_60', 'availability_90',\n",
       "       'availability_365', 'calendar_last_scraped', 'number_of_reviews',\n",
       "       'number_of_reviews_ltm', 'number_of_reviews_l30d', 'first_review',\n",
       "       'last_review', 'review_scores_rating', 'review_scores_accuracy',\n",
       "       'review_scores_cleanliness', 'review_scores_checkin',\n",
       "       'review_scores_communication', 'review_scores_location',\n",
       "       'review_scores_value', 'license', 'instant_bookable',\n",
       "       'calculated_host_listings_count',\n",
       "       'calculated_host_listings_count_entire_homes',\n",
       "       'calculated_host_listings_count_private_rooms',\n",
       "       'calculated_host_listings_count_shared_rooms', 'reviews_per_month'],\n",
       "      dtype='object')"
      ]
     },
     "execution_count": 2,
     "metadata": {},
     "output_type": "execute_result"
    }
   ],
   "source": [
    "listings.columns"
   ]
  },
  {
   "cell_type": "markdown",
   "metadata": {},
   "source": [
    "## Reviewer"
   ]
  },
  {
   "cell_type": "code",
   "execution_count": 15,
   "metadata": {},
   "outputs": [],
   "source": [
    "reviewer = pd.DataFrame()\n",
    "reviewer['reviewer_id'] = reviews['reviewer_id']\n",
    "reviewer['reviewer_name'] = reviews['reviewer_name']"
   ]
  },
  {
   "cell_type": "code",
   "execution_count": 71,
   "metadata": {},
   "outputs": [],
   "source": [
    "reviewer_final = reviewer.drop_duplicates(subset=['reviewer_id'])\n",
    "reviewer_final = reviewer_final.reset_index(drop=True)"
   ]
  },
  {
   "cell_type": "code",
   "execution_count": 72,
   "metadata": {},
   "outputs": [],
   "source": [
    "reviewer_final.to_csv('./data_sql/reviewer.csv', index=False, sep=';')"
   ]
  },
  {
   "cell_type": "markdown",
   "metadata": {},
   "source": [
    "## Date"
   ]
  },
  {
   "cell_type": "code",
   "execution_count": 17,
   "metadata": {},
   "outputs": [],
   "source": [
    "from datetime import datetime\n",
    "\n",
    "def get_day(date): \n",
    "    data = datetime.strptime(date,'%Y-%m-%d')\n",
    "    return data.day\n",
    "\n",
    "def get_month(date):\n",
    "    data = datetime.strptime(date,'%Y-%m-%d')\n",
    "    return data.month\n",
    "\n",
    "def get_year(date):\n",
    "    data = datetime.strptime(date,'%Y-%m-%d')\n",
    "    return data.year\n"
   ]
  },
  {
   "cell_type": "code",
   "execution_count": 38,
   "metadata": {},
   "outputs": [],
   "source": [
    "date = pd.DataFrame() \n",
    "date['date'] = reviews['date']"
   ]
  },
  {
   "cell_type": "code",
   "execution_count": 42,
   "metadata": {},
   "outputs": [],
   "source": [
    "#drop duplicates\n",
    "date = date.drop_duplicates()\n",
    "date = date.reset_index(drop=True)"
   ]
  },
  {
   "cell_type": "code",
   "execution_count": null,
   "metadata": {},
   "outputs": [],
   "source": [
    "#foreign key for day\n",
    "\n",
    "size_date = len(date.index)\n",
    "date['day_id'] = [i for i in range(size_date)]\n",
    "\n",
    "for i in date['date'].index:\n",
    "    date['day_id'][i] = get_day(date['date'][i])"
   ]
  },
  {
   "cell_type": "code",
   "execution_count": null,
   "metadata": {},
   "outputs": [],
   "source": [
    "#foreign key for month\n",
    "\n",
    "size_date = len(date.index)\n",
    "date['month_id'] = [i for i in range(size_date)]\n",
    "for i in date['date'].index:\n",
    "    date['month_id'][i] = get_month(date['date'][i])"
   ]
  },
  {
   "cell_type": "code",
   "execution_count": 52,
   "metadata": {},
   "outputs": [],
   "source": [
    "# Table day\n",
    "day = pd.DataFrame()\n",
    "day['day_number'] = [i for i in range(1,32)]"
   ]
  },
  {
   "cell_type": "code",
   "execution_count": 53,
   "metadata": {},
   "outputs": [],
   "source": [
    "# Table month\n",
    "month = pd.DataFrame()\n",
    "month['month_number'] = [i for i in range(1,13)]\n",
    "month['month_name'] = ['January', 'February', 'March', 'April', 'May', 'June', 'July', 'August', 'September', 'October', 'November', 'December']"
   ]
  },
  {
   "cell_type": "code",
   "execution_count": 54,
   "metadata": {},
   "outputs": [
    {
     "name": "stdout",
     "output_type": "stream",
     "text": [
      "2023-09-11 2010-07-22\n"
     ]
    }
   ],
   "source": [
    "max = date['date'].max()\n",
    "min = date['date'].min()\n",
    "\n",
    "print(max, min)"
   ]
  },
  {
   "cell_type": "code",
   "execution_count": 55,
   "metadata": {},
   "outputs": [],
   "source": [
    "# Table year -> min_year(date) - max_year(date)\n",
    "year = pd.DataFrame()\n",
    "year['year_number'] = [i for i in range(2010,2024)]"
   ]
  },
  {
   "cell_type": "code",
   "execution_count": null,
   "metadata": {},
   "outputs": [],
   "source": [
    "# Foreign key of year_id\n",
    "\n",
    "size_date = len(date.index)\n",
    "date['year_id'] = [i for i in range(size_date)]\n",
    "for i in date['date'].index:\n",
    "    year_number = get_year(date['date'][i])\n",
    "    row_num = year[year['year_number']==year_number].index\n",
    "    date['year_id'][i] = row_num[0]+1"
   ]
  },
  {
   "cell_type": "code",
   "execution_count": 62,
   "metadata": {},
   "outputs": [],
   "source": [
    "day.to_csv('./data_sql/day.csv', sep=';', index=False)\n",
    "month.to_csv('./data_sql/month.csv', sep=';', index=False)\n",
    "year.to_csv('./data_sql/year.csv', sep=';', index=False)\n",
    "date.to_csv('./data_sql/date.csv', sep=';', index=False)"
   ]
  },
  {
   "cell_type": "code",
   "execution_count": 69,
   "metadata": {},
   "outputs": [],
   "source": [
    "date = date.reset_index(drop=True)"
   ]
  },
  {
   "cell_type": "markdown",
   "metadata": {},
   "source": [
    "## Availability"
   ]
  },
  {
   "cell_type": "code",
   "execution_count": 248,
   "metadata": {},
   "outputs": [],
   "source": [
    "# Availability \n",
    "selected_columns = ['availability_30', 'availability_60', 'availability_90', 'availability_365']\n",
    "\n",
    "availability = listings[selected_columns].copy()"
   ]
  },
  {
   "cell_type": "code",
   "execution_count": 249,
   "metadata": {},
   "outputs": [],
   "source": [
    "availability = availability.drop_duplicates().reset_index(drop=True)"
   ]
  },
  {
   "cell_type": "code",
   "execution_count": 27,
   "metadata": {},
   "outputs": [],
   "source": [
    "availability.to_csv('./data_sql/availabilty.csv', index=False, sep=';')"
   ]
  },
  {
   "cell_type": "markdown",
   "metadata": {},
   "source": [
    "## Location"
   ]
  },
  {
   "cell_type": "code",
   "execution_count": 32,
   "metadata": {},
   "outputs": [],
   "source": [
    "location = pd.DataFrame()\n",
    "location['latitude'] = listings['latitude']\n",
    "location['longitude'] = listings['longitude']"
   ]
  },
  {
   "cell_type": "code",
   "execution_count": 36,
   "metadata": {},
   "outputs": [],
   "source": [
    "location = location.drop_duplicates().reset_index(drop=True)"
   ]
  },
  {
   "cell_type": "code",
   "execution_count": 38,
   "metadata": {},
   "outputs": [],
   "source": [
    "country = pd.DataFrame({'country': ['Portugal']})"
   ]
  },
  {
   "cell_type": "code",
   "execution_count": 41,
   "metadata": {},
   "outputs": [],
   "source": [
    "size_location = len(location.index)\n",
    "location['country_id'] = [1 for i in range(size_location)]"
   ]
  },
  {
   "cell_type": "code",
   "execution_count": 52,
   "metadata": {},
   "outputs": [],
   "source": [
    "city = pd.DataFrame({'city': ['Porto']})"
   ]
  },
  {
   "cell_type": "code",
   "execution_count": 53,
   "metadata": {},
   "outputs": [],
   "source": [
    "size_location = len(location.index)\n",
    "location['city_id'] = [1 for i in range(size_location)]"
   ]
  },
  {
   "cell_type": "code",
   "execution_count": 47,
   "metadata": {},
   "outputs": [],
   "source": [
    "country_ = pd.DataFrame({'country_id': 0, 'country': ['Portugal'], 'country_code': ['PT']})\n",
    "\n",
    "# Create a new dataframe that came from listings that take the city\n",
    "\n",
    "state = pd.DataFrame()\n",
    "\n",
    "\n",
    "state[\"state\"] = listings[\"neighbourhood_group_cleansed\"].drop_duplicates().reset_index(drop=True)\n",
    "state[\"state_id\"] = state.index\n",
    "state[\"country_id\"] = 0\n",
    "\n",
    "# Create a new dataframe that came from listings that take the neighbourhood\n",
    "\n",
    "neighbourhood = pd.DataFrame()\n",
    "\n",
    "# Extract the 'neighbourhood_cleansed' column and drop duplicates\n",
    "neighbourhood['combined_neighbourhood'] = listings['neighbourhood_cleansed'].drop_duplicates().reset_index(drop=True)\n",
    "\n",
    "# Assuming 'city_column' is the column in 'listings' containing city information\n",
    "neighbourhood = pd.merge(neighbourhood, listings[['neighbourhood_cleansed', 'neighbourhood_group_cleansed']], \n",
    "                         left_on='combined_neighbourhood', right_on='neighbourhood_cleansed', how='left')\n",
    "\n",
    "neighbourhood.rename(columns={'neighbourhood_group_cleansed': 'state_column'}, inplace=True)\n",
    "neighbourhood.drop(['neighbourhood_cleansed'], axis=1, inplace=True)\n",
    "neighbourhood.drop_duplicates().reset_index(drop=True, inplace=True)\n",
    "\n",
    "\n",
    "# Split the combined neighborhood string into individual neighborhoods using both commas and \" e \"\n",
    "neighbourhood['neighbourhood'] = neighbourhood['combined_neighbourhood'].str.split(',| e ')\n",
    "\n",
    "# Explode the DataFrame, creating a new row for each neighborhood\n",
    "neighbourhood = neighbourhood.explode('neighbourhood')\n",
    "\n",
    "# Drop unnecessary columns and rename columns\n",
    "neighbourhood.rename(columns={'state_column': 'state'}, inplace=True)\n",
    "neighbourhood.drop_duplicates().reset_index(drop=True, inplace=True)\n",
    "neighbourhood = pd.merge(neighbourhood, state, on=\"state\", how='left')\n",
    "neighbourhood.drop(['combined_neighbourhood', 'state', 'country_id'], axis=1, inplace=True)"
   ]
  },
  {
   "cell_type": "markdown",
   "metadata": {},
   "source": [
    "## Listing Score"
   ]
  },
  {
   "cell_type": "code",
   "execution_count": 173,
   "metadata": {},
   "outputs": [],
   "source": [
    "selected_columns = ['review_scores_rating', 'review_scores_accuracy', 'review_scores_cleanliness', 'review_scores_checkin', 'review_scores_communication', 'review_scores_location', 'review_scores_value', 'reviews_per_month']\n",
    "\n",
    "listing_score = listings[selected_columns].copy()"
   ]
  },
  {
   "cell_type": "code",
   "execution_count": 174,
   "metadata": {},
   "outputs": [],
   "source": [
    "listing_score=listing_score.drop_duplicates().reset_index(drop=True)"
   ]
  },
  {
   "cell_type": "code",
   "execution_count": 175,
   "metadata": {},
   "outputs": [],
   "source": [
    "listing_score.to_csv('./data_sql/listing_score.csv', index=False, sep=';')"
   ]
  },
  {
   "cell_type": "markdown",
   "metadata": {},
   "source": [
    "## Host"
   ]
  },
  {
   "cell_type": "markdown",
   "metadata": {},
   "source": [
    "host_listing_count é para por, \n",
    "description == host_description?"
   ]
  },
  {
   "cell_type": "code",
   "execution_count": 43,
   "metadata": {},
   "outputs": [],
   "source": [
    "selected_columns = ['host_id', 'host_name', 'host_url', 'host_total_listings_count', 'host_listings_count', 'host_has_profile_pic', 'host_identity_verified', 'host_is_superhost', 'description', 'reviews_per_month']\n",
    "\n",
    "host = listings[selected_columns].copy()"
   ]
  },
  {
   "cell_type": "code",
   "execution_count": 44,
   "metadata": {},
   "outputs": [],
   "source": [
    "host = host.drop_duplicates().reset_index(drop=True)"
   ]
  },
  {
   "cell_type": "code",
   "execution_count": 14,
   "metadata": {},
   "outputs": [],
   "source": [
    "selected_columns = ['host_response_time', 'host_response_rate', 'host_acceptance_rate']\n",
    "\n",
    "host_response = listings[selected_columns].copy()"
   ]
  },
  {
   "cell_type": "code",
   "execution_count": 20,
   "metadata": {},
   "outputs": [],
   "source": [
    "host_response = host_response.drop_duplicates().reset_index(drop=True)"
   ]
  },
  {
   "cell_type": "code",
   "execution_count": 75,
   "metadata": {},
   "outputs": [],
   "source": [
    "def get_host_response_id(host_id):\n",
    "    listing_host = listings[listings['host_id']==host_id]\n",
    "    list_host_response_time = listing_host['host_response_time'].iloc[0]\n",
    "    list_host_response_rate = listing_host['host_response_rate'].iloc[0]\n",
    "    list_host_acceptance_rate = listing_host['host_acceptance_rate'].iloc[0]\n",
    "    row = host_response[(host_response['host_response_time']==list_host_response_time)\n",
    "                         & (host_response['host_response_rate']==list_host_response_rate)\n",
    "                         & (host_response['host_acceptance_rate']==list_host_acceptance_rate)]\n",
    "    return row.index[0] + 1 "
   ]
  },
  {
   "cell_type": "code",
   "execution_count": null,
   "metadata": {},
   "outputs": [],
   "source": [
    "# host_response_id -> run\n",
    "size_host = len(host.index)\n",
    "host['host_response_id'][i] = [i for i in range(size_host)]\n",
    "\n",
    "for i in range(size_host):\n",
    "    host_id = host['host_id'][i]\n",
    "    host['host_response_id'][i] = get_host_response_id(host_id)"
   ]
  },
  {
   "cell_type": "code",
   "execution_count": 112,
   "metadata": {},
   "outputs": [],
   "source": [
    "host_verification = pd.DataFrame()\n",
    "host_verification['host_verifications'] = listings['host_verifications']"
   ]
  },
  {
   "cell_type": "code",
   "execution_count": 113,
   "metadata": {},
   "outputs": [],
   "source": [
    "host_verification = host_verification.drop_duplicates().reset_index(drop=True)"
   ]
  },
  {
   "cell_type": "code",
   "execution_count": 121,
   "metadata": {},
   "outputs": [],
   "source": [
    "def get_host_verifications_id(host_id):\n",
    "    listing_host = listings[listings['host_id']==host_id]\n",
    "    list_host_verifications = listing_host['host_verifications'].iloc[0]\n",
    "    \n",
    "    row = host_verification[host_verification['host_verifications']==list_host_verifications]\n",
    "    return row.index[0] + 1 "
   ]
  },
  {
   "cell_type": "code",
   "execution_count": null,
   "metadata": {},
   "outputs": [],
   "source": [
    "# host_verifications_id -> run\n",
    "size_host = len(host.index)\n",
    "host['host_verifications_id'][i] = [i for i in range(size_host)]\n",
    "\n",
    "for i in range(size_host):\n",
    "    host_id = host['host_id'][i]\n",
    "    host['host_verifications_id'][i] = get_host_verifications_id(host_id)"
   ]
  },
  {
   "cell_type": "markdown",
   "metadata": {},
   "source": [
    "## Property"
   ]
  },
  {
   "cell_type": "markdown",
   "metadata": {},
   "source": [
    "square_feet parece que não existe"
   ]
  },
  {
   "cell_type": "code",
   "execution_count": 152,
   "metadata": {},
   "outputs": [],
   "source": [
    "selected_columns = ['accommodates', 'bedrooms', 'beds', 'amenities']\n",
    "\n",
    "property = listings[selected_columns].copy()"
   ]
  },
  {
   "cell_type": "code",
   "execution_count": 171,
   "metadata": {},
   "outputs": [],
   "source": [
    "property = property.drop_duplicates().reset_index(drop=True)"
   ]
  },
  {
   "cell_type": "code",
   "execution_count": 154,
   "metadata": {},
   "outputs": [],
   "source": [
    "room_type = pd.DataFrame()\n",
    "room_type['room_type'] = listings['room_type']"
   ]
  },
  {
   "cell_type": "code",
   "execution_count": 156,
   "metadata": {},
   "outputs": [],
   "source": [
    "room_type = room_type.drop_duplicates().reset_index(drop=True)"
   ]
  },
  {
   "cell_type": "code",
   "execution_count": 158,
   "metadata": {},
   "outputs": [],
   "source": [
    "property_type = pd.DataFrame()\n",
    "property_type['property_type'] = listings['property_type']"
   ]
  },
  {
   "cell_type": "code",
   "execution_count": 160,
   "metadata": {},
   "outputs": [],
   "source": [
    "property_type = property_type.drop_duplicates().reset_index(drop=True)"
   ]
  },
  {
   "cell_type": "code",
   "execution_count": 166,
   "metadata": {},
   "outputs": [],
   "source": [
    "bathroom_type = pd.DataFrame()\n",
    "bathroom_type['bathrooms_text'] = listings['bathrooms_text']"
   ]
  },
  {
   "cell_type": "code",
   "execution_count": 167,
   "metadata": {},
   "outputs": [],
   "source": [
    "bathroom_type = bathroom_type.drop_duplicates().reset_index(drop=True)"
   ]
  },
  {
   "cell_type": "markdown",
   "metadata": {},
   "source": [
    "# Review"
   ]
  },
  {
   "cell_type": "code",
   "execution_count": 183,
   "metadata": {},
   "outputs": [],
   "source": [
    "review = pd.DataFrame()\n",
    "review['reviewer_id'] = reviews['reviewer_id']\n",
    "review['review'] = reviews['comments']\n"
   ]
  },
  {
   "cell_type": "code",
   "execution_count": 82,
   "metadata": {},
   "outputs": [],
   "source": [
    "def get_date_id(date_str):\n",
    "    return date[date['date']==date_str].index[0]+1"
   ]
  },
  {
   "cell_type": "code",
   "execution_count": 86,
   "metadata": {},
   "outputs": [
    {
     "name": "stderr",
     "output_type": "stream",
     "text": [
      "C:\\Users\\filip\\AppData\\Local\\Temp\\ipykernel_15204\\753352024.py:5: SettingWithCopyWarning: \n",
      "A value is trying to be set on a copy of a slice from a DataFrame\n",
      "\n",
      "See the caveats in the documentation: https://pandas.pydata.org/pandas-docs/stable/user_guide/indexing.html#returning-a-view-versus-a-copy\n",
      "  review['date_id'][i] = get_date_id(reviews['date'][i])\n"
     ]
    }
   ],
   "source": [
    "# data_id\n",
    "size_review = len(review.index)\n",
    "review['date_id'] = [i for i in range(size_review)]\n",
    "\n",
    "for i in range(size_review):\n",
    "    review['date_id'][i] = get_date_id(reviews['date'][i])"
   ]
  },
  {
   "cell_type": "code",
   "execution_count": 214,
   "metadata": {},
   "outputs": [],
   "source": [
    "def get_host_id(listings_id):\n",
    "    l = listings[listings['id']==listings_id]\n",
    "    return l['host_id'].tolist()[0]"
   ]
  },
  {
   "cell_type": "code",
   "execution_count": 212,
   "metadata": {},
   "outputs": [],
   "source": [
    "# host_id -> review['listing_id'] = listings['id]->host_id\n",
    "\n",
    "size_review = len(review.index)\n",
    "review['host_id'] = [i for i in range(size_review)]\n",
    "\n",
    "for i in range(size_review):\n",
    "    review['host_id'][i] = get_host_id(reviews['listing_id'][i])"
   ]
  },
  {
   "cell_type": "markdown",
   "metadata": {},
   "source": [
    "# Listing"
   ]
  },
  {
   "cell_type": "code",
   "execution_count": 244,
   "metadata": {},
   "outputs": [],
   "source": [
    "#listing -> listing_id = id, host_id = host_id, price -> price\n",
    "\n",
    "selected_columns = ['id', 'host_id', 'price']\n",
    "listing = listings[selected_columns].copy()\n",
    "listing.rename(columns={'id':'listing_id'}, inplace=True)"
   ]
  },
  {
   "cell_type": "code",
   "execution_count": null,
   "metadata": {},
   "outputs": [],
   "source": [
    "# availability_id -> buscar availabilities == def get_response_id"
   ]
  },
  {
   "cell_type": "code",
   "execution_count": null,
   "metadata": {},
   "outputs": [],
   "source": [
    "#listing_score_id -> buscar scores == def get_response_id"
   ]
  }
 ],
 "metadata": {
  "kernelspec": {
   "display_name": "Python 3",
   "language": "python",
   "name": "python3"
  },
  "language_info": {
   "codemirror_mode": {
    "name": "ipython",
    "version": 3
   },
   "file_extension": ".py",
   "mimetype": "text/x-python",
   "name": "python",
   "nbconvert_exporter": "python",
   "pygments_lexer": "ipython3",
   "version": "3.10.7"
  }
 },
 "nbformat": 4,
 "nbformat_minor": 2
}
