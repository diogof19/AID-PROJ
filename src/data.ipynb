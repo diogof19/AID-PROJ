{
 "cells": [
  {
   "cell_type": "code",
   "execution_count": 13,
   "metadata": {},
   "outputs": [],
   "source": [
    "import pandas as pd\n",
    "\n",
    "listings = pd.read_csv('./data/listings.csv')\n",
    "reviews = pd.read_csv('./data/reviews.csv')"
   ]
  },
  {
   "cell_type": "code",
   "execution_count": 14,
   "metadata": {},
   "outputs": [
    {
     "data": {
      "text/plain": [
       "Index(['listing_id', 'id', 'date', 'reviewer_id', 'reviewer_name', 'comments'], dtype='object')"
      ]
     },
     "execution_count": 14,
     "metadata": {},
     "output_type": "execute_result"
    }
   ],
   "source": [
    "reviews.columns"
   ]
  },
  {
   "cell_type": "markdown",
   "metadata": {},
   "source": [
    "## Reviewer"
   ]
  },
  {
   "cell_type": "code",
   "execution_count": 15,
   "metadata": {},
   "outputs": [],
   "source": [
    "reviewer = pd.DataFrame()\n",
    "reviewer['reviewer_id'] = reviews['reviewer_id']\n",
    "reviewer['reviewer_name'] = reviews['reviewer_name']"
   ]
  },
  {
   "cell_type": "code",
   "execution_count": 71,
   "metadata": {},
   "outputs": [],
   "source": [
    "reviewer_final = reviewer.drop_duplicates(subset=['reviewer_id'])\n",
    "reviewer_final = reviewer_final.reset_index(drop=True)"
   ]
  },
  {
   "cell_type": "code",
   "execution_count": 72,
   "metadata": {},
   "outputs": [],
   "source": [
    "reviewer_final.to_csv('./data_sql/reviewer.csv', index=False, sep=';')"
   ]
  },
  {
   "cell_type": "markdown",
   "metadata": {},
   "source": [
    "## Date"
   ]
  },
  {
   "cell_type": "code",
   "execution_count": 17,
   "metadata": {},
   "outputs": [],
   "source": [
    "from datetime import datetime\n",
    "\n",
    "def get_day(date): \n",
    "    data = datetime.strptime(date,'%Y-%m-%d')\n",
    "    return data.day\n",
    "\n",
    "def get_month(date):\n",
    "    data = datetime.strptime(date,'%Y-%m-%d')\n",
    "    return data.month\n",
    "\n",
    "def get_year(date):\n",
    "    data = datetime.strptime(date,'%Y-%m-%d')\n",
    "    return data.year\n"
   ]
  },
  {
   "cell_type": "code",
   "execution_count": 38,
   "metadata": {},
   "outputs": [],
   "source": [
    "date = pd.DataFrame() \n",
    "date['date'] = reviews['date']"
   ]
  },
  {
   "cell_type": "code",
   "execution_count": 42,
   "metadata": {},
   "outputs": [],
   "source": [
    "#drop duplicates\n",
    "date = date.drop_duplicates()\n",
    "date = date.reset_index(drop=True)"
   ]
  },
  {
   "cell_type": "code",
   "execution_count": null,
   "metadata": {},
   "outputs": [],
   "source": [
    "#foreign key for day\n",
    "\n",
    "size_date = len(date.index)\n",
    "date['day_id'] = [i for i in range(size_date)]\n",
    "\n",
    "for i in date['date'].index:\n",
    "    date['day_id'][i] = get_day(date['date'][i])"
   ]
  },
  {
   "cell_type": "code",
   "execution_count": null,
   "metadata": {},
   "outputs": [],
   "source": [
    "#foreign key for month\n",
    "\n",
    "size_date = len(date.index)\n",
    "date['month_id'] = [i for i in range(size_date)]\n",
    "for i in date['date'].index:\n",
    "    date['month_id'][i] = get_month(date['date'][i])"
   ]
  },
  {
   "cell_type": "code",
   "execution_count": 52,
   "metadata": {},
   "outputs": [],
   "source": [
    "# Table day\n",
    "day = pd.DataFrame()\n",
    "day['day_number'] = [i for i in range(1,32)]"
   ]
  },
  {
   "cell_type": "code",
   "execution_count": 53,
   "metadata": {},
   "outputs": [],
   "source": [
    "# Table month\n",
    "month = pd.DataFrame()\n",
    "month['month_number'] = [i for i in range(1,13)]\n",
    "month['month_name'] = ['January', 'February', 'March', 'April', 'May', 'June', 'July', 'August', 'September', 'October', 'November', 'December']"
   ]
  },
  {
   "cell_type": "code",
   "execution_count": 54,
   "metadata": {},
   "outputs": [
    {
     "name": "stdout",
     "output_type": "stream",
     "text": [
      "2023-09-11 2010-07-22\n"
     ]
    }
   ],
   "source": [
    "max = date['date'].max()\n",
    "min = date['date'].min()\n",
    "\n",
    "print(max, min)"
   ]
  },
  {
   "cell_type": "code",
   "execution_count": 55,
   "metadata": {},
   "outputs": [],
   "source": [
    "# Table year -> min_year(date) - max_year(date)\n",
    "year = pd.DataFrame()\n",
    "year['year_number'] = [i for i in range(2010,2024)]"
   ]
  },
  {
   "cell_type": "code",
   "execution_count": null,
   "metadata": {},
   "outputs": [],
   "source": [
    "# Foreign key of year_id\n",
    "\n",
    "size_date = len(date.index)\n",
    "date['year_id'] = [i for i in range(size_date)]\n",
    "for i in date['date'].index:\n",
    "    year_number = get_year(date['date'][i])\n",
    "    row_num = year[year['year_number']==year_number].index\n",
    "    date['year_id'][i] = row_num[0]+1"
   ]
  },
  {
   "cell_type": "code",
   "execution_count": 62,
   "metadata": {},
   "outputs": [],
   "source": [
    "day.to_csv('./data_sql/day.csv', sep=';', index=False)\n",
    "month.to_csv('./data_sql/month.csv', sep=';', index=False)\n",
    "year.to_csv('./data_sql/year.csv', sep=';', index=False)\n",
    "date.to_csv('./data_sql/date.csv', sep=';', index=False)"
   ]
  },
  {
   "cell_type": "code",
   "execution_count": 69,
   "metadata": {},
   "outputs": [],
   "source": [
    "date = date.reset_index(drop=True)"
   ]
  },
  {
   "cell_type": "markdown",
   "metadata": {},
   "source": [
    "## Review"
   ]
  },
  {
   "cell_type": "code",
   "execution_count": 64,
   "metadata": {},
   "outputs": [],
   "source": [
    "review = pd.DataFrame()\n",
    "review['reviewer_id'] = reviews['reviewer_id']\n",
    "review['review'] = reviews['comments']"
   ]
  },
  {
   "cell_type": "code",
   "execution_count": 82,
   "metadata": {},
   "outputs": [],
   "source": [
    "def get_date_id(date_str):\n",
    "    return date[date['date']==date_str].index[0]+1"
   ]
  },
  {
   "cell_type": "code",
   "execution_count": 86,
   "metadata": {},
   "outputs": [
    {
     "name": "stderr",
     "output_type": "stream",
     "text": [
      "C:\\Users\\filip\\AppData\\Local\\Temp\\ipykernel_15204\\753352024.py:5: SettingWithCopyWarning: \n",
      "A value is trying to be set on a copy of a slice from a DataFrame\n",
      "\n",
      "See the caveats in the documentation: https://pandas.pydata.org/pandas-docs/stable/user_guide/indexing.html#returning-a-view-versus-a-copy\n",
      "  review['date_id'][i] = get_date_id(reviews['date'][i])\n"
     ]
    }
   ],
   "source": [
    "size_review = len(review.index)\n",
    "review['date_id'] = [i for i in range(size_review)]\n",
    "\n",
    "for i in range(size_review):\n",
    "    review['date_id'][i] = get_date_id(reviews['date'][i])"
   ]
  },
  {
   "cell_type": "markdown",
   "metadata": {},
   "source": [
    "## Availability"
   ]
  },
  {
   "cell_type": "code",
   "execution_count": null,
   "metadata": {},
   "outputs": [],
   "source": [
    "# Availability \n",
    "# Coloquei o id do listing como id da availability, nao deve haver problema (podemos trocar)\n",
    "selected_columns = ['id', 'availability_30', 'availability_60', 'availability_90', 'availability_365']\n",
    "\n",
    "availability = listings[selected_columns].copy()"
   ]
  },
  {
   "cell_type": "markdown",
   "metadata": {},
   "source": [
    "## Location"
   ]
  },
  {
   "cell_type": "code",
   "execution_count": null,
   "metadata": {},
   "outputs": [],
   "source": [
    "country = pd.DataFrame({'country_id': 0, 'country': ['Portugal'], 'country_code': ['PT']})\n",
    "\n",
    "# Create a new dataframe that came from listings that take the city\n",
    "\n",
    "city = pd.DataFrame()\n",
    "\n",
    "\n",
    "city[\"city\"] = listings[\"neighbourhood_group_cleansed\"].drop_duplicates().reset_index(drop=True)\n",
    "city[\"city_id\"] = city.index\n",
    "city[\"country_id\"] = 0\n",
    "\n",
    "# Create a new dataframe that came from listings that take the neighbourhood\n",
    "\n",
    "neighbourhood = pd.DataFrame()\n",
    "\n",
    "# Extract the 'neighbourhood_cleansed' column and drop duplicates\n",
    "neighbourhood['combined_neighbourhood'] = listings['neighbourhood_cleansed'].drop_duplicates().reset_index(drop=True)\n",
    "\n",
    "# Assuming 'city_column' is the column in 'listings' containing city information\n",
    "neighbourhood = pd.merge(neighbourhood, listings[['neighbourhood_cleansed', 'neighbourhood_group_cleansed']], \n",
    "                         left_on='combined_neighbourhood', right_on='neighbourhood_cleansed', how='left')\n",
    "\n",
    "neighbourhood.rename(columns={'neighbourhood_group_cleansed': 'city_column'}, inplace=True)\n",
    "neighbourhood.drop(['neighbourhood_cleansed'], axis=1, inplace=True)\n",
    "neighbourhood.drop_duplicates().reset_index(drop=True, inplace=True)\n",
    "\n",
    "\n",
    "# Split the combined neighborhood string into individual neighborhoods using both commas and \" e \"\n",
    "neighbourhood['neighbourhood'] = neighbourhood['combined_neighbourhood'].str.split(',| e ')\n",
    "\n",
    "# Explode the DataFrame, creating a new row for each neighborhood\n",
    "neighbourhood = neighbourhood.explode('neighbourhood')\n",
    "\n",
    "# Drop unnecessary columns and rename columns\n",
    "neighbourhood.rename(columns={'city_column': 'city'}, inplace=True)\n",
    "neighbourhood.drop_duplicates().reset_index(drop=True, inplace=True)\n",
    "neighbourhood = pd.merge(neighbourhood, city, on=\"city\", how='left')\n",
    "neighbourhood.drop(['combined_neighbourhood', 'city', 'country_id'], axis=1, inplace=True)"
   ]
  }
 ],
 "metadata": {
  "kernelspec": {
   "display_name": "Python 3",
   "language": "python",
   "name": "python3"
  },
  "language_info": {
   "codemirror_mode": {
    "name": "ipython",
    "version": 3
   },
   "file_extension": ".py",
   "mimetype": "text/x-python",
   "name": "python",
   "nbconvert_exporter": "python",
   "pygments_lexer": "ipython3",
   "version": "3.10.7"
  }
 },
 "nbformat": 4,
 "nbformat_minor": 2
}
