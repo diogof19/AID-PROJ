{
 "cells": [
  {
   "cell_type": "markdown",
   "metadata": {},
   "source": [
    "#### Date - reading the csv"
   ]
  },
  {
   "cell_type": "code",
   "execution_count": 8,
   "metadata": {},
   "outputs": [],
   "source": [
    "date_csv = pd.read_csv('./data_sql/date.csv', sep=';')"
   ]
  },
  {
   "cell_type": "code",
   "execution_count": 12,
   "metadata": {},
   "outputs": [],
   "source": [
    "date_csv['day_number'] = date_csv['day_id'].copy()\n",
    "date_csv['month_number'] = date_csv['month_id'].copy()"
   ]
  },
  {
   "cell_type": "code",
   "execution_count": 23,
   "metadata": {},
   "outputs": [],
   "source": [
    "def get_month_name(month_id):\n",
    "    month_row = month[month['month_number']==month_id]\n",
    "    return month_row['month_name'].iloc[0]"
   ]
  },
  {
   "cell_type": "code",
   "execution_count": 29,
   "metadata": {},
   "outputs": [
    {
     "name": "stderr",
     "output_type": "stream",
     "text": [
      "C:\\Users\\filip\\AppData\\Local\\Temp\\ipykernel_3684\\4036878054.py:6: SettingWithCopyWarning: \n",
      "A value is trying to be set on a copy of a slice from a DataFrame\n",
      "\n",
      "See the caveats in the documentation: https://pandas.pydata.org/pandas-docs/stable/user_guide/indexing.html#returning-a-view-versus-a-copy\n",
      "  date_csv['month_name'][i] = month_name\n"
     ]
    }
   ],
   "source": [
    "size_date = len(date_csv.index)\n",
    "date_csv['month_name'] = [i for i in range(size_date)]\n",
    "\n",
    "for i in date_csv['month_id'].index:\n",
    "    month_name = get_month_name(date_csv['month_id'][i])\n",
    "    date_csv['month_name'][i] = month_name"
   ]
  },
  {
   "cell_type": "code",
   "execution_count": 34,
   "metadata": {},
   "outputs": [],
   "source": [
    "def get_year_number(year_id):\n",
    "    return 2010 + year_id -1"
   ]
  },
  {
   "cell_type": "code",
   "execution_count": 39,
   "metadata": {},
   "outputs": [
    {
     "name": "stderr",
     "output_type": "stream",
     "text": [
      "C:\\Users\\filip\\AppData\\Local\\Temp\\ipykernel_3684\\1921800919.py:6: SettingWithCopyWarning: \n",
      "A value is trying to be set on a copy of a slice from a DataFrame\n",
      "\n",
      "See the caveats in the documentation: https://pandas.pydata.org/pandas-docs/stable/user_guide/indexing.html#returning-a-view-versus-a-copy\n",
      "  date_csv['year_number'][i] = year_number\n"
     ]
    }
   ],
   "source": [
    "size_date = len(date_csv.index)\n",
    "date_csv['year_number'] = [i for i in range(size_date)]\n",
    "\n",
    "for i in date_csv['year_id'].index:\n",
    "    year_number = get_year_number(date_csv['year_id'][i])\n",
    "    date_csv['year_number'][i] = year_number"
   ]
  },
  {
   "cell_type": "code",
   "execution_count": 41,
   "metadata": {},
   "outputs": [],
   "source": [
    "date_csv.to_csv('./data_sql/date.csv', sep=\";\", index=False)"
   ]
  },
  {
   "cell_type": "markdown",
   "metadata": {},
   "source": [
    "## Location\n",
    "\n",
    "* Cascata"
   ]
  },
  {
   "cell_type": "code",
   "execution_count": 44,
   "metadata": {},
   "outputs": [],
   "source": [
    "location = pd.DataFrame()\n",
    "location['latitude'] = listings['latitude']\n",
    "location['longitude'] = listings['longitude']"
   ]
  },
  {
   "cell_type": "code",
   "execution_count": 45,
   "metadata": {},
   "outputs": [],
   "source": [
    "location = location.drop_duplicates().reset_index(drop=True)"
   ]
  },
  {
   "cell_type": "code",
   "execution_count": 58,
   "metadata": {},
   "outputs": [],
   "source": [
    "state = pd.DataFrame({'state_id':1, 'state':['Porto'], 'country_id': 1})"
   ]
  },
  {
   "cell_type": "code",
   "execution_count": 62,
   "metadata": {},
   "outputs": [],
   "source": [
    "country = pd.DataFrame({'country_id': 1, 'country': ['Portugal'], 'country_code': ['PT']})\n",
    "\n",
    "# Create a new dataframe that came from listings that take the city\n",
    "\n",
    "city = pd.DataFrame()\n",
    "\n",
    "\n",
    "city[\"city\"] = listings[\"neighbourhood_group_cleansed\"].drop_duplicates().reset_index(drop=True)\n",
    "size_city = len(city.index)\n",
    "city[\"city_id\"] = [i for i in range(1, size_city+1)]\n",
    "city[\"country_id\"] = 1\n",
    "\n",
    "# Create a new dataframe that came from listings that take the neighbourhood\n",
    "\n",
    "neighbourhood = pd.DataFrame()\n",
    "\n",
    "# Extract the 'neighbourhood_cleansed' column and drop duplicates\n",
    "neighbourhood['combined_neighbourhood'] = listings['neighbourhood_cleansed'].drop_duplicates().reset_index(drop=True)\n",
    "\n",
    "# Assuming 'city_column' is the column in 'listings' containing city information\n",
    "neighbourhood = pd.merge(neighbourhood, listings[['neighbourhood_cleansed', 'neighbourhood_group_cleansed']], \n",
    "                         left_on='combined_neighbourhood', right_on='neighbourhood_cleansed', how='left')\n",
    "\n",
    "neighbourhood.rename(columns={'neighbourhood_group_cleansed': 'city_column'}, inplace=True)\n",
    "neighbourhood.drop(['neighbourhood_cleansed'], axis=1, inplace=True)\n",
    "neighbourhood.drop_duplicates().reset_index(drop=True, inplace=True)\n",
    "\n",
    "\n",
    "# Split the combined neighborhood string into individual neighborhoods using both commas and \" e \"\n",
    "neighbourhood['neighbourhood'] = neighbourhood['combined_neighbourhood'].str.split(',| e ')\n",
    "\n",
    "# Explode the DataFrame, creating a new row for each neighborhood\n",
    "neighbourhood = neighbourhood.explode('neighbourhood')\n",
    "\n",
    "# Drop unnecessary columns and rename columns\n",
    "neighbourhood.rename(columns={'city_column': 'city'}, inplace=True)\n",
    "neighbourhood.drop_duplicates().reset_index(drop=True, inplace=True)\n",
    "neighbourhood = pd.merge(neighbourhood, city, on=\"city\", how='left')\n",
    "neighbourhood.drop(['combined_neighbourhood', 'city', 'country_id'], axis=1, inplace=True)"
   ]
  },
  {
   "cell_type": "code",
   "execution_count": 63,
   "metadata": {},
   "outputs": [],
   "source": [
    "city.rename(columns={'country_id':'state_id'}, inplace=True)"
   ]
  },
  {
   "cell_type": "code",
   "execution_count": 67,
   "metadata": {},
   "outputs": [],
   "source": [
    "city.drop(['city_id'], axis=1, inplace=True)"
   ]
  },
  {
   "cell_type": "code",
   "execution_count": 78,
   "metadata": {},
   "outputs": [],
   "source": [
    "neighbourhood = neighbourhood.drop_duplicates().reset_index(drop=True)"
   ]
  },
  {
   "cell_type": "code",
   "execution_count": 92,
   "metadata": {},
   "outputs": [
    {
     "data": {
      "text/html": [
       "<div>\n",
       "<style scoped>\n",
       "    .dataframe tbody tr th:only-of-type {\n",
       "        vertical-align: middle;\n",
       "    }\n",
       "\n",
       "    .dataframe tbody tr th {\n",
       "        vertical-align: top;\n",
       "    }\n",
       "\n",
       "    .dataframe thead th {\n",
       "        text-align: right;\n",
       "    }\n",
       "</style>\n",
       "<table border=\"1\" class=\"dataframe\">\n",
       "  <thead>\n",
       "    <tr style=\"text-align: right;\">\n",
       "      <th></th>\n",
       "      <th>neighbourhood</th>\n",
       "      <th>city_id</th>\n",
       "    </tr>\n",
       "  </thead>\n",
       "  <tbody>\n",
       "    <tr>\n",
       "      <th>0</th>\n",
       "      <td>Vila Chã</td>\n",
       "      <td>1</td>\n",
       "    </tr>\n",
       "    <tr>\n",
       "      <th>1</th>\n",
       "      <td>Lordelo do Ouro</td>\n",
       "      <td>2</td>\n",
       "    </tr>\n",
       "    <tr>\n",
       "      <th>2</th>\n",
       "      <td>Massarelos</td>\n",
       "      <td>2</td>\n",
       "    </tr>\n",
       "    <tr>\n",
       "      <th>3</th>\n",
       "      <td>Cete</td>\n",
       "      <td>3</td>\n",
       "    </tr>\n",
       "    <tr>\n",
       "      <th>4</th>\n",
       "      <td>Cedofeita</td>\n",
       "      <td>2</td>\n",
       "    </tr>\n",
       "    <tr>\n",
       "      <th>...</th>\n",
       "      <td>...</td>\n",
       "      <td>...</td>\n",
       "    </tr>\n",
       "    <tr>\n",
       "      <th>227</th>\n",
       "      <td>Guilhabreu</td>\n",
       "      <td>1</td>\n",
       "    </tr>\n",
       "    <tr>\n",
       "      <th>228</th>\n",
       "      <td>Arrifana</td>\n",
       "      <td>11</td>\n",
       "    </tr>\n",
       "    <tr>\n",
       "      <th>229</th>\n",
       "      <td>Vilela</td>\n",
       "      <td>3</td>\n",
       "    </tr>\n",
       "    <tr>\n",
       "      <th>230</th>\n",
       "      <td>Vilarinho</td>\n",
       "      <td>16</td>\n",
       "    </tr>\n",
       "    <tr>\n",
       "      <th>231</th>\n",
       "      <td>Aveleda</td>\n",
       "      <td>1</td>\n",
       "    </tr>\n",
       "  </tbody>\n",
       "</table>\n",
       "<p>232 rows × 2 columns</p>\n",
       "</div>"
      ],
      "text/plain": [
       "       neighbourhood  city_id\n",
       "0           Vila Chã        1\n",
       "1    Lordelo do Ouro        2\n",
       "2         Massarelos        2\n",
       "3               Cete        3\n",
       "4          Cedofeita        2\n",
       "..               ...      ...\n",
       "227       Guilhabreu        1\n",
       "228         Arrifana       11\n",
       "229           Vilela        3\n",
       "230        Vilarinho       16\n",
       "231          Aveleda        1\n",
       "\n",
       "[232 rows x 2 columns]"
      ]
     },
     "execution_count": 92,
     "metadata": {},
     "output_type": "execute_result"
    }
   ],
   "source": [
    "neighbourhood"
   ]
  },
  {
   "cell_type": "code",
   "execution_count": 142,
   "metadata": {},
   "outputs": [],
   "source": [
    "def get_neighbourhood_id(listing_id):\n",
    "    listing_location = listings[listings['id']==listing_id]\n",
    "    list_neighbourhood = listing_location['neighbourhood'].iloc[0]\n",
    "\n",
    "    is_neighbourhood_nan = pd.isna(list_neighbourhood)\n",
    "    if is_neighbourhood_nan:\n",
    "        return pd.NA\n",
    "    \n",
    "    print(list_neighbourhood)\n",
    "    "
   ]
  },
  {
   "cell_type": "code",
   "execution_count": 143,
   "metadata": {},
   "outputs": [
    {
     "name": "stdout",
     "output_type": "stream",
     "text": [
      "Porto, Portugal\n"
     ]
    }
   ],
   "source": [
    "get_neighbourhood_id(41339)"
   ]
  },
  {
   "cell_type": "markdown",
   "metadata": {},
   "source": [
    "## Host"
   ]
  },
  {
   "cell_type": "code",
   "execution_count": 12,
   "metadata": {},
   "outputs": [],
   "source": [
    "# selected_columns = ['host_response_time', 'host_response_rate', 'host_acceptance_rate']\n",
    "selected_columns = ['host_id', 'host_name', 'host_url', 'host_total_listings_count', 'host_has_profile_pic', 'host_identity_verified', 'host_is_superhost', 'host_about',\n",
    "                    'host_response_time', 'host_response_rate', 'host_acceptance_rate', \n",
    "                    'host_verifications']\n",
    "\n",
    "host = listings[selected_columns].copy()\n",
    "host.rename(columns={'host_about':'description'}, inplace=True)"
   ]
  },
  {
   "cell_type": "code",
   "execution_count": 13,
   "metadata": {},
   "outputs": [],
   "source": [
    "selected_columns = ['host_response_time', 'host_response_rate', 'host_acceptance_rate']\n",
    "\n",
    "host_response = listings[selected_columns].copy()"
   ]
  },
  {
   "cell_type": "code",
   "execution_count": 14,
   "metadata": {},
   "outputs": [],
   "source": [
    "host_response = host_response.drop_duplicates().reset_index(drop=True)"
   ]
  },
  {
   "cell_type": "code",
   "execution_count": 20,
   "metadata": {},
   "outputs": [],
   "source": [
    "host_response = host_response.fillna(-1)"
   ]
  },
  {
   "cell_type": "code",
   "execution_count": 22,
   "metadata": {},
   "outputs": [],
   "source": [
    "# TODO: Compare values NaN\n",
    "\n",
    "def get_host_response_id(host_id):\n",
    "    listing_host = listings[listings['host_id']==host_id]\n",
    "    list_host_response_time = listing_host['host_response_time'].iloc[0]\n",
    "    list_host_response_rate = listing_host['host_response_rate'].iloc[0]\n",
    "    list_host_acceptance_rate = listing_host['host_acceptance_rate'].iloc[0]\n",
    "\n",
    "    # Check if values are NaN\n",
    "    is_response_time_nan = pd.isna(list_host_response_time)\n",
    "    is_response_rate_nan = pd.isna(list_host_response_rate)\n",
    "    is_acceptance_rate_nan = pd.isna(list_host_acceptance_rate)\n",
    "\n",
    "    if is_response_time_nan:\n",
    "        list_host_response_time = -1\n",
    "    if is_response_rate_nan:\n",
    "        list_host_response_rate = -1\n",
    "    if is_acceptance_rate_nan:\n",
    "        list_host_acceptance_rate = -1\n",
    "\n",
    "    row = host_response[(host_response['host_response_time']==list_host_response_time)\n",
    "                         & (host_response['host_response_rate']==list_host_response_rate)\n",
    "                         & (host_response['host_acceptance_rate']==list_host_acceptance_rate)]\n",
    "    \n",
    "    return row.index[0] + 1 "
   ]
  },
  {
   "cell_type": "code",
   "execution_count": 25,
   "metadata": {},
   "outputs": [
    {
     "name": "stderr",
     "output_type": "stream",
     "text": [
      "C:\\Users\\filip\\AppData\\Local\\Temp\\ipykernel_4768\\692988943.py:7: SettingWithCopyWarning: \n",
      "A value is trying to be set on a copy of a slice from a DataFrame\n",
      "\n",
      "See the caveats in the documentation: https://pandas.pydata.org/pandas-docs/stable/user_guide/indexing.html#returning-a-view-versus-a-copy\n",
      "  host['host_response_id'][i] = get_host_response_id(host_id)\n"
     ]
    }
   ],
   "source": [
    "# host_response_id\n",
    "size_host = len(host.index)\n",
    "host['host_response_id'] = [i for i in range(size_host)]\n",
    "\n",
    "for i in host['host_id'].index:\n",
    "    host_id = host['host_id'][i]\n",
    "    host['host_response_id'][i] = get_host_response_id(host_id)"
   ]
  },
  {
   "cell_type": "code",
   "execution_count": 29,
   "metadata": {},
   "outputs": [],
   "source": [
    "host_verification = pd.DataFrame()\n",
    "host_verification['host_verifications'] = listings['host_verifications']"
   ]
  },
  {
   "cell_type": "code",
   "execution_count": 30,
   "metadata": {},
   "outputs": [],
   "source": [
    "host_verification = host_verification.drop_duplicates().reset_index(drop=True)"
   ]
  },
  {
   "cell_type": "code",
   "execution_count": 32,
   "metadata": {},
   "outputs": [],
   "source": [
    "def get_host_verifications_id(host_id):\n",
    "    listing_host = listings[listings['host_id']==host_id]\n",
    "    list_host_verifications = listing_host['host_verifications'].iloc[0]\n",
    "    \n",
    "    row = host_verification[host_verification['host_verifications']==list_host_verifications]\n",
    "    return row.index[0] + 1 "
   ]
  },
  {
   "cell_type": "code",
   "execution_count": 33,
   "metadata": {},
   "outputs": [
    {
     "name": "stderr",
     "output_type": "stream",
     "text": [
      "C:\\Users\\filip\\AppData\\Local\\Temp\\ipykernel_4768\\482111441.py:7: SettingWithCopyWarning: \n",
      "A value is trying to be set on a copy of a slice from a DataFrame\n",
      "\n",
      "See the caveats in the documentation: https://pandas.pydata.org/pandas-docs/stable/user_guide/indexing.html#returning-a-view-versus-a-copy\n",
      "  host['host_verifications_id'][i] = get_host_verifications_id(host_id)\n"
     ]
    }
   ],
   "source": [
    "# host_verifications_id -> run\n",
    "size_host = len(host.index)\n",
    "host['host_verifications_id'] = [i for i in range(size_host)]\n",
    "\n",
    "for i in range(size_host):\n",
    "    host_id = host['host_id'][i]\n",
    "    host['host_verifications_id'][i] = get_host_verifications_id(host_id)"
   ]
  },
  {
   "cell_type": "code",
   "execution_count": 37,
   "metadata": {},
   "outputs": [
    {
     "data": {
      "text/plain": [
       "Index(['host_id', 'host_name', 'host_url', 'host_total_listings_count',\n",
       "       'host_has_profile_pic', 'host_identity_verified', 'host_is_superhost',\n",
       "       'description', 'host_response_time', 'host_response_rate',\n",
       "       'host_acceptance_rate', 'host_verifications', 'host_response_id',\n",
       "       'host_verifications_id'],\n",
       "      dtype='object')"
      ]
     },
     "execution_count": 37,
     "metadata": {},
     "output_type": "execute_result"
    }
   ],
   "source": [
    "host.columns"
   ]
  },
  {
   "cell_type": "code",
   "execution_count": 38,
   "metadata": {},
   "outputs": [],
   "source": [
    "host = host.drop_duplicates().reset_index(drop=True)"
   ]
  },
  {
   "cell_type": "code",
   "execution_count": 39,
   "metadata": {},
   "outputs": [],
   "source": [
    "host.to_csv('./data_sql/host.csv', sep=\";\", index=False)"
   ]
  },
  {
   "cell_type": "markdown",
   "metadata": {},
   "source": [
    "## Property"
   ]
  },
  {
   "cell_type": "code",
   "execution_count": 4,
   "metadata": {},
   "outputs": [],
   "source": [
    "selected_columns = ['accommodates', 'bedrooms', 'beds', 'amenities', 'room_type', 'property_type', 'bathrooms_text']\n",
    "\n",
    "property = listings[selected_columns].copy()\n",
    "property.rename(columns={'bathrooms_text':'bathrooms'}, inplace=True)"
   ]
  },
  {
   "cell_type": "code",
   "execution_count": 40,
   "metadata": {},
   "outputs": [],
   "source": [
    "property['property_id'] = listings['id']"
   ]
  },
  {
   "cell_type": "code",
   "execution_count": 6,
   "metadata": {},
   "outputs": [],
   "source": [
    "property = property.drop_duplicates().reset_index(drop=True)"
   ]
  },
  {
   "cell_type": "code",
   "execution_count": 42,
   "metadata": {},
   "outputs": [
    {
     "data": {
      "text/plain": [
       "Index(['accommodates', 'bedrooms', 'beds', 'amenities', 'room_type',\n",
       "       'property_type', 'bathrooms', 'property_id'],\n",
       "      dtype='object')"
      ]
     },
     "execution_count": 42,
     "metadata": {},
     "output_type": "execute_result"
    }
   ],
   "source": [
    "property.columns"
   ]
  },
  {
   "cell_type": "code",
   "execution_count": 43,
   "metadata": {},
   "outputs": [],
   "source": [
    "property.to_csv('./data_sql/property.csv', sep=\";\", index=False)"
   ]
  },
  {
   "cell_type": "markdown",
   "metadata": {},
   "source": [
    "# Review"
   ]
  },
  {
   "cell_type": "code",
   "execution_count": 183,
   "metadata": {},
   "outputs": [],
   "source": [
    "review = pd.DataFrame()\n",
    "review['reviewer_id'] = reviews['reviewer_id']\n",
    "review['review'] = reviews['comments']\n"
   ]
  },
  {
   "cell_type": "code",
   "execution_count": 82,
   "metadata": {},
   "outputs": [],
   "source": [
    "def get_date_id(date_str):\n",
    "    return date[date['date']==date_str].index[0]+1"
   ]
  },
  {
   "cell_type": "code",
   "execution_count": 6,
   "metadata": {},
   "outputs": [
    {
     "name": "stderr",
     "output_type": "stream",
     "text": [
      "\n",
      "KeyboardInterrupt\n",
      "\n"
     ]
    }
   ],
   "source": [
    "# data_id\n",
    "size_review = len(review.index)\n",
    "review['date_id'] = [i for i in range(size_review)]\n",
    "\n",
    "for i in range(size_review):\n",
    "    review['date_id'][i] = get_date_id(reviews['date'][i])"
   ]
  },
  {
   "cell_type": "code",
   "execution_count": 214,
   "metadata": {},
   "outputs": [],
   "source": [
    "def get_host_id(listings_id):\n",
    "    l = listings[listings['id']==listings_id]\n",
    "    return l['host_id'].tolist()[0]"
   ]
  },
  {
   "cell_type": "code",
   "execution_count": 212,
   "metadata": {},
   "outputs": [],
   "source": [
    "# host_id -> review['listing_id'] = listings['id]->host_id\n",
    "\n",
    "size_review = len(review.index)\n",
    "review['host_id'] = [i for i in range(size_review)]\n",
    "\n",
    "for i in range(size_review):\n",
    "    review['host_id'][i] = get_host_id(reviews['listing_id'][i])"
   ]
  },
  {
   "cell_type": "markdown",
   "metadata": {},
   "source": [
    "# Listing"
   ]
  },
  {
   "cell_type": "code",
   "execution_count": 44,
   "metadata": {},
   "outputs": [],
   "source": [
    "#listing -> listing_id = id, host_id = host_id, price -> price\n",
    "\n",
    "# selected_columns = ['availability_30', 'availability_60', 'availability_90', 'availability_365']\n",
    "# selected_columns = ['review_scores_rating', 'review_scores_accuracy', 'review_scores_cleanliness', 'review_scores_checkin', 'review_scores_communication', 'review_scores_location', 'review_scores_value', 'reviews_per_month']\n",
    "\n",
    "selected_columns = ['id', 'host_id', 'price', 'description', \n",
    "                    'availability_30', 'availability_60', 'availability_90', 'availability_365', \n",
    "                    'review_scores_rating', 'review_scores_accuracy', 'review_scores_cleanliness', 'review_scores_checkin', 'review_scores_communication', 'review_scores_location', 'review_scores_value', 'reviews_per_month']\n",
    "listing = listings[selected_columns].copy()\n",
    "listing.rename(columns={'id':'listing_id'}, inplace=True)"
   ]
  }
 ],
 "metadata": {
  "kernelspec": {
   "display_name": "Python 3",
   "language": "python",
   "name": "python3"
  },
  "language_info": {
   "codemirror_mode": {
    "name": "ipython",
    "version": 3
   },
   "file_extension": ".py",
   "mimetype": "text/x-python",
   "name": "python",
   "nbconvert_exporter": "python",
   "pygments_lexer": "ipython3",
   "version": "3.10.7"
  }
 },
 "nbformat": 4,
 "nbformat_minor": 2
}
