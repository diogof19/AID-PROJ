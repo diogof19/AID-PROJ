{
 "cells": [
  {
   "cell_type": "code",
   "execution_count": null,
   "metadata": {},
   "outputs": [],
   "source": [
    "import pandas as pd\n",
    "\n",
    "listings = pd.read_csv('./data/listings.csv')\n",
    "reviews = pd.read_csv('./data/reviews.csv')"
   ]
  },
  {
   "cell_type": "code",
   "execution_count": null,
   "metadata": {},
   "outputs": [],
   "source": [
    "reviews.columns"
   ]
  },
  {
   "cell_type": "code",
   "execution_count": null,
   "metadata": {},
   "outputs": [],
   "source": [
    "listings.columns"
   ]
  },
  {
   "cell_type": "markdown",
   "metadata": {},
   "source": [
    "## Reviewer"
   ]
  },
  {
   "cell_type": "code",
   "execution_count": null,
   "metadata": {},
   "outputs": [],
   "source": [
    "reviewer = pd.DataFrame()\n",
    "reviewer['reviewer_id'] = reviews['reviewer_id']\n",
    "reviewer['reviewer_name'] = reviews['reviewer_name']"
   ]
  },
  {
   "cell_type": "code",
   "execution_count": 3,
   "metadata": {},
   "outputs": [],
   "source": [
    "reviewer_final = reviewer.drop_duplicates(subset=['reviewer_id'])\n",
    "reviewer_final = reviewer_final.reset_index(drop=True)"
   ]
  },
  {
   "cell_type": "code",
   "execution_count": null,
   "metadata": {},
   "outputs": [],
   "source": [
    "reviewer_final.to_csv('./data_sql/reviewer.csv', index=False, sep=';')"
   ]
  },
  {
   "cell_type": "markdown",
   "metadata": {},
   "source": [
    "## Date"
   ]
  },
  {
   "cell_type": "code",
   "execution_count": null,
   "metadata": {},
   "outputs": [],
   "source": [
    "from datetime import datetime\n",
    "\n",
    "def get_day(date): \n",
    "    data = datetime.strptime(date,'%Y-%m-%d')\n",
    "    return data.day\n",
    "\n",
    "def get_month(date):\n",
    "    data = datetime.strptime(date,'%Y-%m-%d')\n",
    "    return data.month\n",
    "\n",
    "def get_year(date):\n",
    "    data = datetime.strptime(date,'%Y-%m-%d')\n",
    "    return data.year"
   ]
  },
  {
   "cell_type": "code",
   "execution_count": 38,
   "metadata": {},
   "outputs": [],
   "source": [
    "date = pd.DataFrame() \n",
    "date['date'] = reviews['date']"
   ]
  },
  {
   "cell_type": "code",
   "execution_count": 42,
   "metadata": {},
   "outputs": [],
   "source": [
    "#drop duplicates\n",
    "date = date.drop_duplicates()\n",
    "date = date.reset_index(drop=True)"
   ]
  },
  {
   "cell_type": "code",
   "execution_count": null,
   "metadata": {},
   "outputs": [],
   "source": [
    "#foreign key for day\n",
    "\n",
    "size_date = len(date.index)\n",
    "date['day_id'] = [i for i in range(size_date)]\n",
    "\n",
    "for i in date['date'].index:\n",
    "    date['day_id'][i] = get_day(date['date'][i])"
   ]
  },
  {
   "cell_type": "code",
   "execution_count": null,
   "metadata": {},
   "outputs": [],
   "source": [
    "#foreign key for month\n",
    "\n",
    "size_date = len(date.index)\n",
    "date['month_id'] = [i for i in range(size_date)]\n",
    "for i in date['date'].index:\n",
    "    date['month_id'][i] = get_month(date['date'][i])"
   ]
  },
  {
   "cell_type": "code",
   "execution_count": 52,
   "metadata": {},
   "outputs": [],
   "source": [
    "# Table day\n",
    "day = pd.DataFrame()\n",
    "day['day_number'] = [i for i in range(1,32)]"
   ]
  },
  {
   "cell_type": "code",
   "execution_count": null,
   "metadata": {},
   "outputs": [],
   "source": [
    "# Table month\n",
    "month = pd.DataFrame()\n",
    "month['month_number'] = [i for i in range(1,13)]\n",
    "month['month_name'] = ['January', 'February', 'March', 'April', 'May', 'June', 'July', 'August', 'September', 'October', 'November', 'December']"
   ]
  },
  {
   "cell_type": "code",
   "execution_count": 54,
   "metadata": {},
   "outputs": [
    {
     "name": "stdout",
     "output_type": "stream",
     "text": [
      "2023-09-11 2010-07-22\n"
     ]
    }
   ],
   "source": [
    "max = date['date'].max()\n",
    "min = date['date'].min()\n",
    "\n",
    "print(max, min)"
   ]
  },
  {
   "cell_type": "code",
   "execution_count": 31,
   "metadata": {},
   "outputs": [],
   "source": [
    "# Table year -> min_year(date) - max_year(date)\n",
    "year = pd.DataFrame()\n",
    "year['year_number'] = [i for i in range(2010,2024)]"
   ]
  },
  {
   "cell_type": "code",
   "execution_count": null,
   "metadata": {},
   "outputs": [],
   "source": [
    "# Foreign key of year_id\n",
    "\n",
    "size_date = len(date.index)\n",
    "date['year_id'] = [i for i in range(size_date)]\n",
    "for i in date['date'].index:\n",
    "    year_number = get_year(date['date'][i])\n",
    "    row_num = year[year['year_number']==year_number].index\n",
    "    date['year_id'][i] = row_num[0]+1"
   ]
  },
  {
   "cell_type": "markdown",
   "metadata": {},
   "source": [
    "#### Date - reading the csv"
   ]
  },
  {
   "cell_type": "code",
   "execution_count": 9,
   "metadata": {},
   "outputs": [],
   "source": [
    "date_csv = pd.read_csv('./data_sql/date.csv', sep=';')"
   ]
  },
  {
   "cell_type": "code",
   "execution_count": 12,
   "metadata": {},
   "outputs": [],
   "source": [
    "date_csv['day_number'] = date_csv['day_id'].copy()\n",
    "date_csv['month_number'] = date_csv['month_id'].copy()"
   ]
  },
  {
   "cell_type": "code",
   "execution_count": 23,
   "metadata": {},
   "outputs": [],
   "source": [
    "def get_month_name(month_id):\n",
    "    month_row = month[month['month_number']==month_id]\n",
    "    return month_row['month_name'].iloc[0]"
   ]
  },
  {
   "cell_type": "code",
   "execution_count": 29,
   "metadata": {},
   "outputs": [
    {
     "name": "stderr",
     "output_type": "stream",
     "text": [
      "C:\\Users\\filip\\AppData\\Local\\Temp\\ipykernel_3684\\4036878054.py:6: SettingWithCopyWarning: \n",
      "A value is trying to be set on a copy of a slice from a DataFrame\n",
      "\n",
      "See the caveats in the documentation: https://pandas.pydata.org/pandas-docs/stable/user_guide/indexing.html#returning-a-view-versus-a-copy\n",
      "  date_csv['month_name'][i] = month_name\n"
     ]
    }
   ],
   "source": [
    "size_date = len(date_csv.index)\n",
    "date_csv['month_name'] = [i for i in range(size_date)]\n",
    "\n",
    "for i in date_csv['month_id'].index:\n",
    "    month_name = get_month_name(date_csv['month_id'][i])\n",
    "    date_csv['month_name'][i] = month_name"
   ]
  },
  {
   "cell_type": "code",
   "execution_count": 34,
   "metadata": {},
   "outputs": [],
   "source": [
    "def get_year_number(year_id):\n",
    "    return 2010 + year_id -1"
   ]
  },
  {
   "cell_type": "code",
   "execution_count": 39,
   "metadata": {},
   "outputs": [
    {
     "name": "stderr",
     "output_type": "stream",
     "text": [
      "C:\\Users\\filip\\AppData\\Local\\Temp\\ipykernel_3684\\1921800919.py:6: SettingWithCopyWarning: \n",
      "A value is trying to be set on a copy of a slice from a DataFrame\n",
      "\n",
      "See the caveats in the documentation: https://pandas.pydata.org/pandas-docs/stable/user_guide/indexing.html#returning-a-view-versus-a-copy\n",
      "  date_csv['year_number'][i] = year_number\n"
     ]
    }
   ],
   "source": [
    "size_date = len(date_csv.index)\n",
    "date_csv['year_number'] = [i for i in range(size_date)]\n",
    "\n",
    "for i in date_csv['year_id'].index:\n",
    "    year_number = get_year_number(date_csv['year_id'][i])\n",
    "    date_csv['year_number'][i] = year_number"
   ]
  },
  {
   "cell_type": "code",
   "execution_count": 41,
   "metadata": {},
   "outputs": [],
   "source": [
    "date_csv.to_csv('./data_sql/date.csv', sep=\";\", index=False)"
   ]
  },
  {
   "cell_type": "markdown",
   "metadata": {},
   "source": [
    "## Location"
   ]
  },
  {
   "cell_type": "code",
   "execution_count": 140,
   "metadata": {},
   "outputs": [],
   "source": [
    "location = pd.DataFrame()\n",
    "location['latitude'] = listings['latitude']\n",
    "location['longitude'] = listings['longitude']"
   ]
  },
  {
   "cell_type": "code",
   "execution_count": 141,
   "metadata": {},
   "outputs": [],
   "source": [
    "location = location.drop_duplicates().reset_index(drop=True)"
   ]
  },
  {
   "cell_type": "code",
   "execution_count": 142,
   "metadata": {},
   "outputs": [],
   "source": [
    "state = pd.DataFrame({'state_id':1, 'state':['Porto'], 'country_id': 1})"
   ]
  },
  {
   "cell_type": "code",
   "execution_count": 143,
   "metadata": {},
   "outputs": [],
   "source": [
    "country = pd.DataFrame({'country_id': 1, 'country': ['Portugal'], 'country_code': ['PT']})\n",
    "\n",
    "# Create a new dataframe that came from listings that take the city\n",
    "\n",
    "city = pd.DataFrame()\n",
    "\n",
    "\n",
    "city[\"city\"] = listings[\"neighbourhood_group_cleansed\"].drop_duplicates().reset_index(drop=True)\n",
    "size_city = len(city.index)\n",
    "city[\"city_id\"] = [i for i in range(1, size_city+1)]\n",
    "city[\"country_id\"] = 1\n",
    "\n",
    "# Create a new dataframe that came from listings that take the neighbourhood\n",
    "\n",
    "neighbourhood = pd.DataFrame()\n",
    "\n",
    "# Extract the 'neighbourhood_cleansed' column and drop duplicates\n",
    "neighbourhood['combined_neighbourhood'] = listings['neighbourhood_cleansed'].drop_duplicates().reset_index(drop=True)\n",
    "\n",
    "# Assuming 'city_column' is the column in 'listings' containing city information\n",
    "neighbourhood = pd.merge(neighbourhood, listings[['neighbourhood_cleansed', 'neighbourhood_group_cleansed']], \n",
    "                         left_on='combined_neighbourhood', right_on='neighbourhood_cleansed', how='left')\n",
    "\n",
    "neighbourhood.rename(columns={'neighbourhood_group_cleansed': 'city_column'}, inplace=True)\n",
    "neighbourhood.drop(['neighbourhood_cleansed'], axis=1, inplace=True)\n",
    "neighbourhood.drop_duplicates().reset_index(drop=True, inplace=True)\n",
    "\n",
    "\n",
    "# Split the combined neighborhood string into individual neighborhoods using both commas and \" e \"\n",
    "neighbourhood['neighbourhood'] = neighbourhood['combined_neighbourhood'].str.split(',| e ')\n",
    "\n",
    "# Explode the DataFrame, creating a new row for each neighborhood\n",
    "neighbourhood = neighbourhood.explode('neighbourhood')\n",
    "\n",
    "# Drop unnecessary columns and rename columns\n",
    "neighbourhood.rename(columns={'city_column': 'city'}, inplace=True)\n",
    "neighbourhood.drop_duplicates().reset_index(drop=True, inplace=True)\n",
    "neighbourhood = pd.merge(neighbourhood, city, on=\"city\", how='left')\n",
    "neighbourhood.drop(['combined_neighbourhood', 'city', 'country_id'], axis=1, inplace=True)"
   ]
  },
  {
   "cell_type": "code",
   "execution_count": 144,
   "metadata": {},
   "outputs": [],
   "source": [
    "city.rename(columns={'country_id':'state_id'}, inplace=True)"
   ]
  },
  {
   "cell_type": "code",
   "execution_count": 145,
   "metadata": {},
   "outputs": [],
   "source": [
    "city.drop(['city_id'], axis=1, inplace=True)"
   ]
  },
  {
   "cell_type": "code",
   "execution_count": 146,
   "metadata": {},
   "outputs": [],
   "source": [
    "neighbourhood = neighbourhood.drop_duplicates().reset_index(drop=True)"
   ]
  },
  {
   "cell_type": "code",
   "execution_count": 147,
   "metadata": {},
   "outputs": [],
   "source": [
    "location['neighbourhood_cleansed'] = listings['neighbourhood_cleansed']\n",
    "location['neighbourhood_id'] = 0\n",
    "\n",
    "location['neighbourhood_cleansed'] = location['neighbourhood_cleansed'].str.split(',| e ')\n",
    "\n",
    "index = 0\n",
    "for listn in location['neighbourhood_cleansed']:\n",
    "    for n in listn:\n",
    "        location.loc[index, 'neighbourhood_id'] = neighbourhood[neighbourhood['neighbourhood']==n].index[0] + 1\n",
    "\n",
    "    index += 1\n",
    "\n",
    "location = location.drop(['neighbourhood_cleansed'], axis=1)"
   ]
  },
  {
   "cell_type": "code",
   "execution_count": 149,
   "metadata": {},
   "outputs": [],
   "source": [
    "location.to_csv('./data_sql/location.csv', sep=\";\", index=False)"
   ]
  },
  {
   "cell_type": "code",
   "execution_count": 151,
   "metadata": {},
   "outputs": [],
   "source": [
    "neighbourhood.to_csv('./data_sql/neighbourhood.csv', index=False, sep=\";\")"
   ]
  },
  {
   "cell_type": "code",
   "execution_count": 153,
   "metadata": {},
   "outputs": [],
   "source": [
    "city.to_csv('./data_sql/city.csv', sep=\";\", index=False)"
   ]
  },
  {
   "cell_type": "code",
   "execution_count": 156,
   "metadata": {},
   "outputs": [],
   "source": [
    "state.drop(['state_id'], axis=1, inplace=True)"
   ]
  },
  {
   "cell_type": "code",
   "execution_count": 158,
   "metadata": {},
   "outputs": [],
   "source": [
    "state.to_csv('./data_sql/state.csv', sep=\";\", index=False)"
   ]
  },
  {
   "cell_type": "code",
   "execution_count": 160,
   "metadata": {},
   "outputs": [],
   "source": [
    "country.drop(['country_id'], axis=1, inplace=True)"
   ]
  },
  {
   "cell_type": "code",
   "execution_count": 162,
   "metadata": {},
   "outputs": [],
   "source": [
    "country.to_csv('./data_sql/country.csv', sep=\";\", index=False)"
   ]
  },
  {
   "cell_type": "markdown",
   "metadata": {},
   "source": [
    "## Host"
   ]
  },
  {
   "cell_type": "code",
   "execution_count": 12,
   "metadata": {},
   "outputs": [],
   "source": [
    "# selected_columns = ['host_response_time', 'host_response_rate', 'host_acceptance_rate']\n",
    "selected_columns = ['host_id', 'host_name', 'host_url', 'host_total_listings_count', 'host_has_profile_pic', 'host_identity_verified', 'host_is_superhost', 'host_about',\n",
    "                    'host_response_time', 'host_response_rate', 'host_acceptance_rate', \n",
    "                    'host_verifications']\n",
    "\n",
    "host = listings[selected_columns].copy()\n",
    "host.rename(columns={'host_about':'description'}, inplace=True)"
   ]
  },
  {
   "cell_type": "code",
   "execution_count": 13,
   "metadata": {},
   "outputs": [],
   "source": [
    "selected_columns = ['host_response_time', 'host_response_rate', 'host_acceptance_rate']\n",
    "\n",
    "host_response = listings[selected_columns].copy()"
   ]
  },
  {
   "cell_type": "code",
   "execution_count": 14,
   "metadata": {},
   "outputs": [],
   "source": [
    "host_response = host_response.drop_duplicates().reset_index(drop=True)"
   ]
  },
  {
   "cell_type": "code",
   "execution_count": 20,
   "metadata": {},
   "outputs": [],
   "source": [
    "host_response = host_response.fillna(-1)"
   ]
  },
  {
   "cell_type": "code",
   "execution_count": 22,
   "metadata": {},
   "outputs": [],
   "source": [
    "def get_host_response_id(host_id):\n",
    "    listing_host = listings[listings['host_id']==host_id]\n",
    "    list_host_response_time = listing_host['host_response_time'].iloc[0]\n",
    "    list_host_response_rate = listing_host['host_response_rate'].iloc[0]\n",
    "    list_host_acceptance_rate = listing_host['host_acceptance_rate'].iloc[0]\n",
    "\n",
    "    # Check if values are NaN\n",
    "    is_response_time_nan = pd.isna(list_host_response_time)\n",
    "    is_response_rate_nan = pd.isna(list_host_response_rate)\n",
    "    is_acceptance_rate_nan = pd.isna(list_host_acceptance_rate)\n",
    "\n",
    "    if is_response_time_nan:\n",
    "        list_host_response_time = -1\n",
    "    if is_response_rate_nan:\n",
    "        list_host_response_rate = -1\n",
    "    if is_acceptance_rate_nan:\n",
    "        list_host_acceptance_rate = -1\n",
    "\n",
    "    row = host_response[(host_response['host_response_time']==list_host_response_time)\n",
    "                         & (host_response['host_response_rate']==list_host_response_rate)\n",
    "                         & (host_response['host_acceptance_rate']==list_host_acceptance_rate)]\n",
    "    \n",
    "    return row.index[0] + 1 "
   ]
  },
  {
   "cell_type": "code",
   "execution_count": 25,
   "metadata": {},
   "outputs": [
    {
     "name": "stderr",
     "output_type": "stream",
     "text": [
      "C:\\Users\\filip\\AppData\\Local\\Temp\\ipykernel_4768\\692988943.py:7: SettingWithCopyWarning: \n",
      "A value is trying to be set on a copy of a slice from a DataFrame\n",
      "\n",
      "See the caveats in the documentation: https://pandas.pydata.org/pandas-docs/stable/user_guide/indexing.html#returning-a-view-versus-a-copy\n",
      "  host['host_response_id'][i] = get_host_response_id(host_id)\n"
     ]
    }
   ],
   "source": [
    "# host_response_id\n",
    "size_host = len(host.index)\n",
    "host['host_response_id'] = [i for i in range(size_host)]\n",
    "\n",
    "for i in host['host_id'].index:\n",
    "    host_id = host['host_id'][i]\n",
    "    host['host_response_id'][i] = get_host_response_id(host_id)"
   ]
  },
  {
   "cell_type": "code",
   "execution_count": 29,
   "metadata": {},
   "outputs": [],
   "source": [
    "host_verification = pd.DataFrame()\n",
    "host_verification['host_verifications'] = listings['host_verifications']"
   ]
  },
  {
   "cell_type": "code",
   "execution_count": 30,
   "metadata": {},
   "outputs": [],
   "source": [
    "host_verification = host_verification.drop_duplicates().reset_index(drop=True)"
   ]
  },
  {
   "cell_type": "code",
   "execution_count": 32,
   "metadata": {},
   "outputs": [],
   "source": [
    "def get_host_verifications_id(host_id):\n",
    "    listing_host = listings[listings['host_id']==host_id]\n",
    "    list_host_verifications = listing_host['host_verifications'].iloc[0]\n",
    "    \n",
    "    row = host_verification[host_verification['host_verifications']==list_host_verifications]\n",
    "    return row.index[0] + 1 "
   ]
  },
  {
   "cell_type": "code",
   "execution_count": 33,
   "metadata": {},
   "outputs": [
    {
     "name": "stderr",
     "output_type": "stream",
     "text": [
      "C:\\Users\\filip\\AppData\\Local\\Temp\\ipykernel_4768\\482111441.py:7: SettingWithCopyWarning: \n",
      "A value is trying to be set on a copy of a slice from a DataFrame\n",
      "\n",
      "See the caveats in the documentation: https://pandas.pydata.org/pandas-docs/stable/user_guide/indexing.html#returning-a-view-versus-a-copy\n",
      "  host['host_verifications_id'][i] = get_host_verifications_id(host_id)\n"
     ]
    }
   ],
   "source": [
    "# host_verifications_id -> run\n",
    "size_host = len(host.index)\n",
    "host['host_verifications_id'] = [i for i in range(size_host)]\n",
    "\n",
    "for i in range(size_host):\n",
    "    host_id = host['host_id'][i]\n",
    "    host['host_verifications_id'][i] = get_host_verifications_id(host_id)"
   ]
  },
  {
   "cell_type": "code",
   "execution_count": 37,
   "metadata": {},
   "outputs": [
    {
     "data": {
      "text/plain": [
       "Index(['host_id', 'host_name', 'host_url', 'host_total_listings_count',\n",
       "       'host_has_profile_pic', 'host_identity_verified', 'host_is_superhost',\n",
       "       'description', 'host_response_time', 'host_response_rate',\n",
       "       'host_acceptance_rate', 'host_verifications', 'host_response_id',\n",
       "       'host_verifications_id'],\n",
       "      dtype='object')"
      ]
     },
     "execution_count": 37,
     "metadata": {},
     "output_type": "execute_result"
    }
   ],
   "source": [
    "host.columns"
   ]
  },
  {
   "cell_type": "code",
   "execution_count": 38,
   "metadata": {},
   "outputs": [],
   "source": [
    "host = host.drop_duplicates().reset_index(drop=True)"
   ]
  },
  {
   "cell_type": "code",
   "execution_count": 39,
   "metadata": {},
   "outputs": [],
   "source": [
    "host.to_csv('./data_sql/host.csv', sep=\";\", index=False)"
   ]
  },
  {
   "cell_type": "markdown",
   "metadata": {},
   "source": [
    "## Property"
   ]
  },
  {
   "cell_type": "code",
   "execution_count": 121,
   "metadata": {},
   "outputs": [],
   "source": [
    "selected_columns = ['accommodates', 'bedrooms', 'beds', 'amenities', 'room_type', 'property_type', 'bathrooms_text']\n",
    "\n",
    "property = listings[selected_columns].copy()\n",
    "property.rename(columns={'bathrooms_text':'bathrooms'}, inplace=True)"
   ]
  },
  {
   "cell_type": "code",
   "execution_count": 122,
   "metadata": {},
   "outputs": [],
   "source": [
    "property = property.drop_duplicates().reset_index(drop=True)"
   ]
  },
  {
   "cell_type": "code",
   "execution_count": 42,
   "metadata": {},
   "outputs": [
    {
     "data": {
      "text/plain": [
       "Index(['accommodates', 'bedrooms', 'beds', 'amenities', 'room_type',\n",
       "       'property_type', 'bathrooms', 'property_id'],\n",
       "      dtype='object')"
      ]
     },
     "execution_count": 42,
     "metadata": {},
     "output_type": "execute_result"
    }
   ],
   "source": [
    "property.columns"
   ]
  },
  {
   "cell_type": "code",
   "execution_count": 5,
   "metadata": {},
   "outputs": [],
   "source": [
    "property.to_csv('./data_sql/property.csv', sep=\";\", index=False)"
   ]
  },
  {
   "cell_type": "markdown",
   "metadata": {},
   "source": [
    "# Review"
   ]
  },
  {
   "cell_type": "code",
   "execution_count": 6,
   "metadata": {},
   "outputs": [],
   "source": [
    "review = pd.DataFrame()\n",
    "review['reviewer_id'] = reviews['reviewer_id']\n",
    "review['review'] = reviews['comments']\n"
   ]
  },
  {
   "cell_type": "code",
   "execution_count": 7,
   "metadata": {},
   "outputs": [],
   "source": [
    "def get_date_id(date_str):\n",
    "    return date[date['date']==date_str].index[0]+1"
   ]
  },
  {
   "cell_type": "code",
   "execution_count": 10,
   "metadata": {},
   "outputs": [],
   "source": [
    "date = pd.read_csv('./data_sql/date.csv', sep=';')"
   ]
  },
  {
   "cell_type": "code",
   "execution_count": 11,
   "metadata": {},
   "outputs": [
    {
     "name": "stderr",
     "output_type": "stream",
     "text": [
      "C:\\Users\\filip\\AppData\\Local\\Temp\\ipykernel_14204\\3970891828.py:6: SettingWithCopyWarning: \n",
      "A value is trying to be set on a copy of a slice from a DataFrame\n",
      "\n",
      "See the caveats in the documentation: https://pandas.pydata.org/pandas-docs/stable/user_guide/indexing.html#returning-a-view-versus-a-copy\n",
      "  review['date_id'][i] = get_date_id(reviews['date'][i])\n"
     ]
    }
   ],
   "source": [
    "# data_id\n",
    "size_review = len(review.index)\n",
    "review['date_id'] = [i for i in range(size_review)]\n",
    "\n",
    "for i in range(size_review):\n",
    "    review['date_id'][i] = get_date_id(reviews['date'][i])"
   ]
  },
  {
   "cell_type": "code",
   "execution_count": 16,
   "metadata": {},
   "outputs": [],
   "source": [
    "review['listing_id'] = reviews['listing_id']"
   ]
  },
  {
   "cell_type": "code",
   "execution_count": 31,
   "metadata": {},
   "outputs": [],
   "source": [
    "def get_host_id(listings_id):\n",
    "    l = listings[listings['id']==listings_id]\n",
    "    return l['host_id'].tolist()[0]"
   ]
  },
  {
   "cell_type": "code",
   "execution_count": 37,
   "metadata": {},
   "outputs": [
    {
     "name": "stderr",
     "output_type": "stream",
     "text": [
      "C:\\Users\\filip\\AppData\\Local\\Temp\\ipykernel_14204\\2635959504.py:7: SettingWithCopyWarning: \n",
      "A value is trying to be set on a copy of a slice from a DataFrame\n",
      "\n",
      "See the caveats in the documentation: https://pandas.pydata.org/pandas-docs/stable/user_guide/indexing.html#returning-a-view-versus-a-copy\n",
      "  review['host_id'][i] = get_host_id(review['listing_id'][i])\n"
     ]
    }
   ],
   "source": [
    "# host_id \n",
    "\n",
    "size_review = len(review.index)\n",
    "review['host_id'] = [i for i in range(size_review)]\n",
    "\n",
    "for i in range(size_review):\n",
    "    review['host_id'][i] = get_host_id(review['listing_id'][i])"
   ]
  },
  {
   "cell_type": "code",
   "execution_count": 92,
   "metadata": {},
   "outputs": [],
   "source": [
    "property_id = property.copy()"
   ]
  },
  {
   "cell_type": "code",
   "execution_count": 93,
   "metadata": {},
   "outputs": [],
   "source": [
    "property_id = property_id.fillna(-1)"
   ]
  },
  {
   "cell_type": "code",
   "execution_count": 123,
   "metadata": {},
   "outputs": [],
   "source": [
    "def get_property_id(listing_id):\n",
    "    l = listings[listings['id']==listing_id]\n",
    "\n",
    "    accommodates = l['accommodates'].iloc[0]\n",
    "    bedrooms = l['bedrooms'].iloc[0]\n",
    "    beds = l['beds'].iloc[0]\n",
    "    amenities = l['amenities'].iloc[0]\n",
    "    room_type = l['room_type'].iloc[0]\n",
    "    property_type = l['property_type'].iloc[0]\n",
    "    bathrooms = l['bathrooms_text'].iloc[0]\n",
    "\n",
    "    is_bedrooms_nan = pd.isna(bedrooms)\n",
    "    is_beds_nan = pd.isna(beds)\n",
    "    is_bathrooms_nan = pd.isna(bathrooms)\n",
    "\n",
    "\n",
    "    if is_bedrooms_nan:\n",
    "        bedrooms = -1\n",
    "    if is_beds_nan:\n",
    "        beds = -1\n",
    "    if is_bathrooms_nan:\n",
    "        bathrooms = -1\n",
    "    \n",
    "    row = property_id[(property_id['accommodates']==accommodates)\n",
    "                      & (property_id['bedrooms'] == bedrooms)\n",
    "                      & (property_id['beds'] == beds)\n",
    "                      & (property_id['amenities'] == amenities)\n",
    "                      & (property_id['room_type'] == room_type)\n",
    "                      & (property_id['property_type'] == property_type)\n",
    "                      & (property_id['bathrooms'] == bathrooms)]\n",
    "    \n",
    "    return row.index[0] + 1"
   ]
  },
  {
   "cell_type": "code",
   "execution_count": 125,
   "metadata": {},
   "outputs": [
    {
     "name": "stderr",
     "output_type": "stream",
     "text": [
      "C:\\Users\\filip\\AppData\\Local\\Temp\\ipykernel_14204\\22328400.py:7: SettingWithCopyWarning: \n",
      "A value is trying to be set on a copy of a slice from a DataFrame\n",
      "\n",
      "See the caveats in the documentation: https://pandas.pydata.org/pandas-docs/stable/user_guide/indexing.html#returning-a-view-versus-a-copy\n",
      "  review['property_id'][i] = get_property_id(review['listing_id'][i])\n"
     ]
    }
   ],
   "source": [
    "# property_id\n",
    "\n",
    "size_review = len(review.index)\n",
    "review['property_id'] = [i for i in range(size_review)]\n",
    "\n",
    "for i in range(size_review):\n",
    "    review['property_id'][i] = get_property_id(review['listing_id'][i])\n"
   ]
  },
  {
   "cell_type": "code",
   "execution_count": 128,
   "metadata": {},
   "outputs": [],
   "source": [
    "review.to_csv('./data_sql/review.csv', sep=\";\", index=False)"
   ]
  },
  {
   "cell_type": "code",
   "execution_count": 129,
   "metadata": {},
   "outputs": [
    {
     "data": {
      "text/plain": [
       "Index(['reviewer_id', 'review', 'date_id', 'listing_id', 'host_id',\n",
       "       'property_id'],\n",
       "      dtype='object')"
      ]
     },
     "execution_count": 129,
     "metadata": {},
     "output_type": "execute_result"
    }
   ],
   "source": [
    "review.columns"
   ]
  },
  {
   "cell_type": "markdown",
   "metadata": {},
   "source": [
    "# Listing"
   ]
  },
  {
   "cell_type": "code",
   "execution_count": 163,
   "metadata": {},
   "outputs": [],
   "source": [
    "#listing -> listing_id = id, host_id = host_id, price -> price\n",
    "\n",
    "# selected_columns = ['availability_30', 'availability_60', 'availability_90', 'availability_365']\n",
    "# selected_columns = ['review_scores_rating', 'review_scores_accuracy', 'review_scores_cleanliness', 'review_scores_checkin', 'review_scores_communication', 'review_scores_location', 'review_scores_value', 'reviews_per_month']\n",
    "\n",
    "selected_columns = ['id', 'host_id', 'price', 'description', \n",
    "                    'availability_30', 'availability_60', 'availability_90', 'availability_365', \n",
    "                    'review_scores_rating', 'review_scores_accuracy', 'review_scores_cleanliness', 'review_scores_checkin', 'review_scores_communication', 'review_scores_location', 'review_scores_value', 'reviews_per_month']\n",
    "listing = listings[selected_columns].copy()\n",
    "listing.rename(columns={'id':'listing_id'}, inplace=True)"
   ]
  },
  {
   "cell_type": "code",
   "execution_count": 164,
   "metadata": {},
   "outputs": [
    {
     "data": {
      "text/plain": [
       "Index(['listing_id', 'host_id', 'price', 'description', 'availability_30',\n",
       "       'availability_60', 'availability_90', 'availability_365',\n",
       "       'review_scores_rating', 'review_scores_accuracy',\n",
       "       'review_scores_cleanliness', 'review_scores_checkin',\n",
       "       'review_scores_communication', 'review_scores_location',\n",
       "       'review_scores_value', 'reviews_per_month'],\n",
       "      dtype='object')"
      ]
     },
     "execution_count": 164,
     "metadata": {},
     "output_type": "execute_result"
    }
   ],
   "source": [
    "listing.columns"
   ]
  },
  {
   "cell_type": "code",
   "execution_count": 215,
   "metadata": {},
   "outputs": [
    {
     "name": "stderr",
     "output_type": "stream",
     "text": [
      "C:\\Users\\filip\\AppData\\Local\\Temp\\ipykernel_14204\\1556357291.py:7: SettingWithCopyWarning: \n",
      "A value is trying to be set on a copy of a slice from a DataFrame\n",
      "\n",
      "See the caveats in the documentation: https://pandas.pydata.org/pandas-docs/stable/user_guide/indexing.html#returning-a-view-versus-a-copy\n",
      "  listing['property_id'][i] = get_property_id(listing['listing_id'][i])\n"
     ]
    }
   ],
   "source": [
    "# property_id\n",
    "\n",
    "size_listing = len(listing.index)\n",
    "listing['property_id'] = [i for i in range(size_listing)]\n",
    "\n",
    "for i in range(size_listing):\n",
    "    listing['property_id'][i] = get_property_id(listing['listing_id'][i])\n"
   ]
  },
  {
   "cell_type": "code",
   "execution_count": 214,
   "metadata": {},
   "outputs": [],
   "source": [
    "def get_location_id(listing_id):\n",
    "    l = listings[listings['id']==listing_id]\n",
    "\n",
    "    if l.empty:\n",
    "        return pd.NA\n",
    "    \n",
    "    latitude = l['latitude'].iloc[0]\n",
    "    longitude = l['longitude'].iloc[0]\n",
    "\n",
    "    row = location[(location['latitude'] == latitude)\n",
    "                   & (location['longitude'] == longitude)]\n",
    "    \n",
    "    if not row.empty:\n",
    "        return row.index[0] + 1\n",
    "    else :\n",
    "        return pd.NA"
   ]
  },
  {
   "cell_type": "code",
   "execution_count": 195,
   "metadata": {},
   "outputs": [
    {
     "name": "stderr",
     "output_type": "stream",
     "text": [
      "C:\\Users\\filip\\AppData\\Local\\Temp\\ipykernel_14204\\52127130.py:6: SettingWithCopyWarning: \n",
      "A value is trying to be set on a copy of a slice from a DataFrame\n",
      "\n",
      "See the caveats in the documentation: https://pandas.pydata.org/pandas-docs/stable/user_guide/indexing.html#returning-a-view-versus-a-copy\n",
      "  listing['location_id'][i] = get_location_id(listing['listing_id'][i])\n"
     ]
    }
   ],
   "source": [
    "# location_id\n",
    "size_listing = len(listing.index)\n",
    "listing['location_id'] = [i for i in range(size_listing)]\n",
    "\n",
    "for i in range(size_listing):\n",
    "    listing['location_id'][i] = get_location_id(listing['listing_id'][i])\n"
   ]
  },
  {
   "cell_type": "code",
   "execution_count": 217,
   "metadata": {},
   "outputs": [],
   "source": [
    "listing.to_csv('./data_sql/listing.csv', sep=\";\", index=False)"
   ]
  }
 ],
 "metadata": {
  "kernelspec": {
   "display_name": "Python 3",
   "language": "python",
   "name": "python3"
  },
  "language_info": {
   "codemirror_mode": {
    "name": "ipython",
    "version": 3
   },
   "file_extension": ".py",
   "mimetype": "text/x-python",
   "name": "python",
   "nbconvert_exporter": "python",
   "pygments_lexer": "ipython3",
   "version": "3.10.7"
  }
 },
 "nbformat": 4,
 "nbformat_minor": 2
}
